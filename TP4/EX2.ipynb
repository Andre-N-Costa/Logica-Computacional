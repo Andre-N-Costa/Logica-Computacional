{
 "cells": [
  {
   "cell_type": "markdown",
   "id": "d7f8f8a9",
   "metadata": {},
   "source": [
    "<div align=\"right\">  \n",
    "    Grupo 13  \n",
    "    \n",
    "    André Neves da Costa - A95869 \n",
    "    Filipe José Silva Castro - A96156 \n",
    "</div>"
   ]
  },
  {
   "cell_type": "markdown",
   "id": "5388a406",
   "metadata": {},
   "source": [
    "# Algoritmo BubbleSort"
   ]
  },
  {
   "cell_type": "markdown",
   "id": "a39b24b9",
   "metadata": {},
   "source": [
    "O programa Python seguinte implementa o algoritmo de bubble sort para ordenação in situ de um array de inteiros seq:"
   ]
  },
  {
   "cell_type": "markdown",
   "id": "19e23b39",
   "metadata": {},
   "source": [
    "```python\n",
    "\n",
    "seq = [-2,1,2,-1,4,-4,-3,3]\n",
    "changed = True\n",
    "while changed:\n",
    "    changed = False\n",
    "    for i in range(len(seq) - 1):\n",
    "        if seq[i] > seq[i+1]:\n",
    "            seq[i], seq[i+1] = seq[i+1], seq[i]\n",
    "            changed = True\n",
    "pass\n",
    "```"
   ]
  },
  {
   "cell_type": "markdown",
   "id": "aaaec8e2",
   "metadata": {},
   "source": [
    "# Esquecificação do algoritmo"
   ]
  },
  {
   "cell_type": "markdown",
   "id": "9d41e8bf",
   "metadata": {},
   "source": [
    "O algortimo apresentado anteriormente pode ser descrito pelas seguintes pré e pós condições:"
   ]
  },
  {
   "cell_type": "markdown",
   "id": "65fd4888",
   "metadata": {},
   "source": [
    "**pré-condição:** $len(seq) > 1 \\wedge changed = True$\n",
    "\n",
    "**pós-condição:** $\\forall_{0 \\le i < len(seq)-1}seq[i] < seq[i+1]$\n",
    "\n",
    "portanto temos:"
   ]
  },
  {
   "cell_type": "markdown",
   "id": "fe7af086",
   "metadata": {},
   "source": [
    "```python\n",
    "assume len(seq) > 1 and changed = True\n",
    "seq = [-2,1,2,-1,4,-4,-3,3]\n",
    "changed = True\n",
    "while changed:\n",
    "    changed = False\n",
    "0:  for i in range(len(seq) - 1):\n",
    "1:      if seq[i] > seq[i+1]:\n",
    "2:          seq[i], seq[i+1] = seq[i+1], seq[i]\n",
    "3:          changed = True\n",
    "4:    pass\n",
    "assert forall i . 0 <= i > len(seq) - 1 -> seq[i] < seq[i+1]\n",
    "```"
   ]
  },
  {
   "cell_type": "markdown",
   "id": "2b2b6ddb",
   "metadata": {},
   "source": [
    "Agora, queremos modelar a atribuição $\\,\\mathtt{seq}\\gets \\mathit{exp}(\\mathtt{seq})\\,$ construindo uma relação de transição $trans(seq,seq′)$ a partir do ciclo for presente no algoritmo, e com isso temos:"
   ]
  },
  {
   "cell_type": "markdown",
   "id": "baf1318a",
   "metadata": {},
   "source": [
    "O estado inicial é caracterizado pelo seguinte predicado:\n",
    "\n",
    "$$pc = 0 \\wedge changed = False \\wedge i = 0$$"
   ]
  },
  {
   "cell_type": "markdown",
   "id": "9b6a2660",
   "metadata": {},
   "source": [
    "As transições de estados são caracterizadas pelos seguintes predicados:\n",
    "\n",
    "$$pc = 0 \\wedge pc' = 1 \\wedge i < len(seq) - 1$$\n",
    "$$\\vee$$\n",
    "$$pc = 1 \\wedge pc' = 2 \\wedge seq[i] > seq[i + 1]$$\n",
    "$$\\vee$$\n",
    "$$pc = 2 \\wedge pc' = 3 \\wedge seq[i]' = seq[i + 1] \\wedge seq[i + 1]' = seq[i]$$\n",
    "$$\\vee$$\n",
    "$$pc = 3 \\wedge pc' = 0 \\wedge changed' = True \\wedge i' = i + 1$$\n",
    "$$\\vee$$\n",
    "$$pc = 0 \\wedge pc' = 4 \\wedge i \\ge len(seq) - 1$$\n",
    "$$\\vee$$\n",
    "$$pc = 1 \\wedge pc' = 0 \\wedge seq[i] \\le seq[i + 1]$$"
   ]
  },
  {
   "cell_type": "markdown",
   "id": "637a5bb8",
   "metadata": {},
   "source": [
    "# Implementação em Python"
   ]
  },
  {
   "cell_type": "markdown",
   "id": "0065cdc1",
   "metadata": {},
   "source": [
    "Para esta parte do trabalho teriamos então de definir um `declare`, `init` e `trans`, e estando a trabalhar com uma lista experimentamos defini-la como vários inteiros o que acabou por não resultar, tentamos então usar o ArrayType, nao chegou a resultar também, porque quando chamamos de alguma maneira $seq[i]$ ou $seq[i+1]$, como i é uma variável contínua, temos um erro, pois i ainda nao estaria definida então não seria possível usá-la para recolher os valores de seq"
   ]
  },
  {
   "cell_type": "code",
   "execution_count": null,
   "id": "738c9671",
   "metadata": {},
   "outputs": [],
   "source": [
    "from pysmt.shortcuts import *\n",
    "from pysmt.typing import *\n",
    "\n",
    "seq = [-2,1,2,-1,4,-4,-3,3]\n",
    "\n",
    "def declare(i):\n",
    "    state={}\n",
    "    state['pc'] = Symbol('pc'+'_'+str(i),INT)\n",
    "    state['changed'] = Symbol('changed'+'_'+str(i),INT)\n",
    "    state['i'] = Symbol('i'+'_'+str(i),INT)\n",
    "    state['list']=Symbol('_'+str(i),ArrayType(INT, INT))\n",
    "    return state\n",
    "\n",
    "def init(state):\n",
    "    a = Symbol(\"a\", ArrayType(INT, INT))\n",
    "    for n in range(len(seq)):\n",
    "        a = (Store(a, Int(n), Int(seq[n])))\n",
    "    return And(Equals(state['pc'],Int(0)),Equals(state['changed'],Int(0)),Equals(state['i'],Int(0)),Equals(state['list'],a))\n",
    "\n",
    "\n",
    "def trans(curr,prox):\n",
    "    t01 = And(Equals(curr['pc'], Int(0)),Equals(prox['pc'],Int(1)),LT(curr['i'],Int(len(seq) - 1)))\n",
    "    t12 = And(Equals(curr['pc'], Int(1)),Equals(prox['pc'],Int(2)),GT(simplify(curr['list']).arg(curr['i']),simplify(curr['list']).arg(curr['i'] + Int(1))))\n",
    "    t23 = And(Equals(curr['pc'], Int(2)),Equals(prox['pc'],Int(3)),Store(prox['list'],curr['i'],simplify(curr['list']).arg(curr['i'] + Int(1))),Store(prox['list'],curr['i'] + Int(1),simplify(curr['list']).arg(curr['i'])))\n",
    "    t30 = And(Equals(curr['pc'], Int(3)),Equals(prox['pc'],Int(0)),Equals(prox['changed'],Int(1)),Equals(prox['i'],curr['i'] + Int(1)))\n",
    "    t04 = And(Equals(curr['pc'], Int(0)),Equals(prox['pc'],Int(4)),GE(curr['i'],Int(len(seq)-1)))\n",
    "    t10 = And(Equals(curr['pc'], Int(1)),Equals(prox['pc'],Int(0)),LE(simplify(curr['list']).arg(curr['i']),simplify(curr['list']).arg(curr['i'] + Int(1))))\n",
    "    \n",
    "    return Or(t01,t12,t23,t30,t04,t10)"
   ]
  },
  {
   "cell_type": "code",
   "execution_count": null,
   "id": "275e9215",
   "metadata": {},
   "outputs": [],
   "source": [
    "def gera_traco(declare,init,trans,k):\n",
    "    with Solver(name=\"z3\") as s:\n",
    "        \n",
    "        trace = [declare(i) for i in range(k)]\n",
    "        \n",
    "        s.add_assertion(init(trace[0]))\n",
    "        for i in range(k-1):\n",
    "            s.add_assertion(trans(trace[i],trace[i+1]))\n",
    "            \n",
    "        if s.solve():\n",
    "            for i in range(k):\n",
    "                print()\n",
    "                print(\"State:\",i)\n",
    "                print(\"pc =\", float(s.get_py_value(trace[i]['v'])))\n",
    "                print(\"changed =\", float(s.get_py_value(trace[i]['V'])))\n",
    "                print(\"i =\", float(s.get_py_value(trace[i]['t'])))\n",
    "                print(\"[\")\n",
    "                for n in len(seq):\n",
    "                    print(float(s.get_py_value(trace[i]['seq[' + str(n) + ']'])))\n",
    "                print(\"]\")\n",
    "                \n",
    "        else:\n",
    "            print(\"Não foi possível resolver\")\n",
    "        \n",
    "gera_traco(declare,init,trans,12)"
   ]
  }
 ],
 "metadata": {
  "kernelspec": {
   "display_name": "Python 3 (ipykernel)",
   "language": "python",
   "name": "python3"
  },
  "language_info": {
   "codemirror_mode": {
    "name": "ipython",
    "version": 3
   },
   "file_extension": ".py",
   "mimetype": "text/x-python",
   "name": "python",
   "nbconvert_exporter": "python",
   "pygments_lexer": "ipython3",
   "version": "3.10.4"
  }
 },
 "nbformat": 4,
 "nbformat_minor": 5
}
