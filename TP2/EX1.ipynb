{
 "cells": [
  {
   "cell_type": "markdown",
   "id": "fc6c9bf7",
   "metadata": {},
   "source": [
    "<div align=\"right\">  \n",
    "    Grupo 13  \n",
    "    \n",
    "    André Neves da Costa - A95869 \n",
    "    Filipe José Silva Castro - A96156 \n",
    "</div>"
   ]
  },
  {
   "cell_type": "markdown",
   "id": "1cc61403",
   "metadata": {},
   "source": [
    "## Variáveis de input\n",
    "\n",
    "+ **m** $\\rightarrow$ Tamanho que vai ser atribuído aos BitVectors\n",
    "+ **a** $\\rightarrow$ Valor que vai ser atribuído ao x do estado inicial\n",
    "+ **b** $\\rightarrow$ Valor que vai ser atribuído ao y do estado inicial\n",
    "+ **k** $\\rightarrow$ Número de transações de estado que queremos verificar se é possível fazer\n",
    "\n",
    "## Variáveis auxiliares\n",
    "\n",
    "+ **state** $\\rightarrow$ Dicionário que guarda o estado e o valor de x, y e z"
   ]
  },
  {
   "cell_type": "markdown",
   "id": "2768cb23",
   "metadata": {},
   "source": [
    "## Predicados"
   ]
  },
  {
   "cell_type": "markdown",
   "id": "bb8b389d",
   "metadata": {},
   "source": [
    "O **estado inicial** é caracterizado pelo seguinte predicado:"
   ]
  },
  {
   "cell_type": "markdown",
   "id": "3f6035cd",
   "metadata": {},
   "source": [
    "$$ (pc = 0 \\wedge x = a \\wedge y = b \\wedge z = 0) $$"
   ]
  },
  {
   "cell_type": "markdown",
   "id": "9258b9f7",
   "metadata": {},
   "source": [
    "As **transformações possíveis** são caracterizadas pelo seguinte predicado:"
   ]
  },
  {
   "cell_type": "markdown",
   "id": "0062015e",
   "metadata": {},
   "source": [
    "$$ (pc = 0 \\wedge pc' = 1 \\wedge x' = x \\wedge y' = y \\wedge z' = z) $$\n",
    "$$ \\vee $$\n",
    "$$ (pc = 1 \\wedge pc' = 2 \\wedge x' = x \\wedge y' = y \\wedge y \\ne 0 \\wedge even(y) \\wedge z' = z ) $$\n",
    "$$ \\vee $$\n",
    "$$ (pc = 1 \\wedge pc' = 3 \\wedge x' = x \\wedge y' = y \\wedge y \\ne 0 \\wedge odd(y) \\wedge z' = z ) $$\n",
    "$$ \\vee $$\n",
    "$$ (pc = 1 \\wedge pc' = 4 \\wedge x' = x \\wedge y' = y \\wedge y = 0 \\wedge z' = z) $$\n",
    "$$ \\vee $$\n",
    "$$ (pc = 2 \\wedge pc' = 5 \\wedge x' = 2 \\times x \\wedge y' = y/2 \\wedge z' = z \\wedge overflow) $$\n",
    "$$ \\vee $$\n",
    "$$ (pc = 2 \\wedge pc' = 1 \\wedge x' = 2 \\times x \\wedge y' = y/2 \\wedge z' = z) $$\n",
    "$$ \\vee $$\n",
    "$$ (pc = 3 \\wedge pc' = 5 \\wedge x' = x \\wedge y' = y - 1 \\wedge z' = z + x \\wedge overflow) $$\n",
    "$$ \\vee $$\n",
    "$$ (pc = 3 \\wedge pc' = 1 \\wedge x' = x \\wedge y' = y - 1 \\wedge z' = z + x) $$"
   ]
  },
  {
   "cell_type": "markdown",
   "id": "09789799",
   "metadata": {},
   "source": [
    "## Implementação em Python"
   ]
  },
  {
   "cell_type": "code",
   "execution_count": 1,
   "id": "8dd3b84b",
   "metadata": {},
   "outputs": [],
   "source": [
    "from pysmt.shortcuts import *\n",
    "from pysmt.typing import BVType\n",
    "from pysmt.typing import INT\n",
    "\n",
    "m = 10        \n",
    "a = 4\n",
    "b = 6 \n",
    "k = 5"
   ]
  },
  {
   "cell_type": "markdown",
   "id": "18dafa5d",
   "metadata": {},
   "source": [
    "### `declare`\n",
    "Cria um dicionário que terá um **inteiro** correspondente ao **pc** (número do estado), e **BitVectores** com **m** bits que correspondem aos valores de **x**, **y** e **z**."
   ]
  },
  {
   "cell_type": "code",
   "execution_count": 2,
   "id": "c04eee20",
   "metadata": {},
   "outputs": [],
   "source": [
    "def declare(i):\n",
    "    state = {}\n",
    "    state['pc'] = Symbol('pc'+str(i),INT)\n",
    "    state['x'] = Symbol('x'+str(i),BVType(m))\n",
    "    state['y'] = Symbol('y'+str(i),BVType(m))\n",
    "    state['z'] = Symbol('z'+str(i),BVType(m))\n",
    "    return state"
   ]
  },
  {
   "cell_type": "markdown",
   "id": "4d5d958f",
   "metadata": {},
   "source": [
    "### `init`\n",
    "Verifica se o **state** que recebe é um possível estado inicial, usando para isso o *predicado do estado inicial*."
   ]
  },
  {
   "cell_type": "code",
   "execution_count": 3,
   "id": "792b3836",
   "metadata": {},
   "outputs": [],
   "source": [
    "def init(state):\n",
    "    return And(Equals(state['pc'],Int(0)),Equals(state['x'],BV(a,m)),\n",
    "               Equals(state['y'],BV(b,m)),Equals(state['z'],BV(0,m)))"
   ]
  },
  {
   "cell_type": "markdown",
   "id": "8e6f58de",
   "metadata": {},
   "source": [
    "### `trans`\n",
    "Verifica se existe uma transição possível entre as variáveis de estado **curr** e **prox**, usando para isso o *predicado das transformações possíveis*.\n",
    "\n",
    "### Observações\n",
    "Construir esta função provou-se ser a parte mais desafiadora do exercício, sendo *BitVectors* um DataType que ainda não tinhamos utilizado tivemos que pesquisar imenso e fazer várias tentativas para aprendermos finalmente a manipular *BitVectors* corretamente, a melhor maneira que encontramos para o fazer foi usar **&1** que devolve 0 se o ultimo bit do *BitVector* for 0 e 1 caso contrário. Depois de saber isso foi fácil fazer a implementação para se y for par ou ímpar e também para verificar se haveria ou não *overflow*."
   ]
  },
  {
   "cell_type": "code",
   "execution_count": 4,
   "id": "622a2f83",
   "metadata": {},
   "outputs": [],
   "source": [
    "def trans(curr,prox):\n",
    "    t01 = And(Equals(curr['pc'],Int(0)), Equals(prox['pc'],Int(1)), \n",
    "              Equals(curr['x'],prox['x']),Equals(curr['y'],prox['y']),\n",
    "              Equals(curr['z'],prox['z']))\n",
    "    t12 = And(Equals(curr['pc'],Int(1)), Equals(prox['pc'],Int(2)),\n",
    "              Equals(curr['x'],prox['x']),Equals(curr['y'],prox['y']),\n",
    "              NotEquals(curr['y'],BV(0,m)), Equals(curr['y']&1,BV(0,m)&1),\n",
    "              Equals(curr['z'],prox['z']))\n",
    "    t13 = And(Equals(curr['pc'],Int(1)), Equals(prox['pc'],Int(3)), \n",
    "              Equals(curr['x'],prox['x']),Equals(curr['y'],prox['y']), \n",
    "              NotEquals(curr['y'],BV(0,m)), Equals(curr['y']&1,BV(1,m)&1),\n",
    "              Equals(curr['z'],prox['z']))\n",
    "    t14 = And(Equals(curr['pc'],Int(1)), Equals(prox['pc'],Int(4)), \n",
    "              Equals(curr['x'],prox['x']),Equals(curr['y'],prox['y']),\n",
    "              Equals(curr['y'],BV(0,m)),Equals(curr['z'],prox['z']))\n",
    "    t21 = And(Equals(curr['pc'],Int(2)), Equals(prox['pc'],Int(1)), \n",
    "              Equals(curr['x']>>m-1 &1,BV(0,m)&1), Equals(prox['x'],curr['x']<<1),\n",
    "              Equals(prox['y'],curr['y']>>1),Equals(curr['z'],prox['z']))\n",
    "    t25 = And(Equals(curr['pc'],Int(2)), Equals(prox['pc'],Int(5)), \n",
    "              Equals(curr['x']>>m-1 &1,BV(1,m)&1), Equals(prox['x'],curr['x']<<1),\n",
    "              Equals(prox['y'],curr['y']>>1),Equals(curr['z'],prox['z']))\n",
    "    t35 = And(Equals(curr['pc'],Int(3)), Equals(prox['pc'],Int(5)), \n",
    "              Equals(curr['x'],prox['x']),Equals(prox['y'],BVSub(curr['y'],BVOne(m))),\n",
    "              GE(BVToNatural(curr['x']) + BVToNatural(curr['z']),Int(2^m)),\n",
    "              Equals(prox['z'],BVAdd(curr['z'],curr['x'])))\n",
    "    t31 = And(Equals(curr['pc'],Int(3)), Equals(prox['pc'],Int(1)), \n",
    "              Equals(curr['x'],prox['x']),Equals(prox['y'],BVSub(curr['y'],BVOne(m))),\n",
    "              Equals(prox['z'],BVAdd(curr['z'],curr['x'])))\n",
    "\n",
    "    return Or(t01,t12,t13,t14,t21,t25,t31,t35)"
   ]
  },
  {
   "cell_type": "markdown",
   "id": "3d0112b4",
   "metadata": {},
   "source": [
    "### `gera_traco`\n",
    "Recebe as funções `declare`, `init` e `trans`.\n",
    "Nesta função vamos trabalhar com um solver z3 chamado **s**.\n",
    "\n",
    "Primeiramente é criada uma lista **trace** onde se vai armazenar todas as variáveis de estado de **0** a **k**,\n",
    "é depois adicionado a **s** o `init` do primeiro elemento de **trace** e os `trans` de todos os **trace** entre **0** e **k-1**."
   ]
  },
  {
   "cell_type": "code",
   "execution_count": 5,
   "id": "0428f3c3",
   "metadata": {
    "scrolled": true
   },
   "outputs": [
    {
     "name": "stdout",
     "output_type": "stream",
     "text": [
      "0\n",
      "pc= 0\n",
      "x= 4_10\n",
      "y= 6_10\n",
      "z= 0_10\n",
      "1\n",
      "pc= 1\n",
      "x= 4_10\n",
      "y= 6_10\n",
      "z= 0_10\n",
      "2\n",
      "pc= 2\n",
      "x= 4_10\n",
      "y= 6_10\n",
      "z= 0_10\n",
      "3\n",
      "pc= 1\n",
      "x= 8_10\n",
      "y= 3_10\n",
      "z= 0_10\n",
      "4\n",
      "pc= 3\n",
      "x= 8_10\n",
      "y= 3_10\n",
      "z= 0_10\n"
     ]
    }
   ],
   "source": [
    "def gera_traco(declare,init,trans):\n",
    "\n",
    "    with Solver(name=\"z3\") as s:\n",
    "        \n",
    "        # criar k cópias do estado\n",
    "        trace = [declare(i) for i in range(k)]\n",
    "    \n",
    "        # criar o traço\n",
    "        s.add_assertion(init(trace[0]))\n",
    "        for i in range(k-1):\n",
    "            s.add_assertion(trans(trace[i],trace[i+1]))\n",
    "        \n",
    "        if s.solve():\n",
    "            for i in range(k):\n",
    "                print(i)\n",
    "                print(\"pc=\", s.get_value(trace[i]['pc']))\n",
    "                print(\"x=\", s.get_value(trace[i]['x']))\n",
    "                print(\"y=\", s.get_value(trace[i]['y']))\n",
    "                print(\"z=\", s.get_value(trace[i]['z']))\n",
    "        else:\n",
    "            print(\"Impossivel criar um caminho\")\n",
    "  \n",
    "                \n",
    "gera_traco(declare,init,trans)"
   ]
  },
  {
   "cell_type": "markdown",
   "id": "f66368ab",
   "metadata": {},
   "source": [
    "Para finalizar o exercício foi adicionado ao `gera_traco` a possibilidade de receber um invariante **inv**, que neste caso se chama **invariante** e vai testar o seguinte em todas as variáveis de estado:"
   ]
  },
  {
   "cell_type": "markdown",
   "id": "0a590fcc",
   "metadata": {},
   "source": [
    "$$ (x∗y+z=a∗b) $$"
   ]
  },
  {
   "cell_type": "code",
   "execution_count": 6,
   "id": "5ad4c202",
   "metadata": {
    "scrolled": true
   },
   "outputs": [
    {
     "name": "stdout",
     "output_type": "stream",
     "text": [
      "0\n",
      "pc= 0\n",
      "x= 4_10\n",
      "y= 6_10\n",
      "z= 0_10\n",
      "1\n",
      "pc= 1\n",
      "x= 4_10\n",
      "y= 6_10\n",
      "z= 0_10\n",
      "2\n",
      "pc= 2\n",
      "x= 4_10\n",
      "y= 6_10\n",
      "z= 0_10\n",
      "3\n",
      "pc= 1\n",
      "x= 8_10\n",
      "y= 3_10\n",
      "z= 0_10\n",
      "4\n",
      "pc= 3\n",
      "x= 8_10\n",
      "y= 3_10\n",
      "z= 0_10\n"
     ]
    }
   ],
   "source": [
    "def gera_traco(declare,init,trans,inv):\n",
    "\n",
    "    with Solver(name=\"z3\") as s:\n",
    "        \n",
    "    \n",
    "        # criar k cópias do estado\n",
    "        trace = [declare(i) for i in range(k)]\n",
    "    \n",
    "        # criar o traço\n",
    "        s.add_assertion(init(trace[0]))\n",
    "        for i in range(k-1):\n",
    "            s.add_assertion(trans(trace[i],trace[i+1]))\n",
    "        \n",
    "        for i in range(k):\n",
    "            s.add_assertion(inv(trace[i]))\n",
    "        \n",
    "        if s.solve():\n",
    "            for i in range(k):\n",
    "                print(i)\n",
    "                print(\"pc=\", s.get_value(trace[i]['pc']))\n",
    "                print(\"x=\", s.get_value(trace[i]['x']))\n",
    "                print(\"y=\", s.get_value(trace[i]['y']))\n",
    "                print(\"z=\", s.get_value(trace[i]['z']))\n",
    "        else:\n",
    "            print(\"Impossivel criar um caminho\")\n",
    "  \n",
    "\n",
    "def invariante(state):\n",
    "    return Equals(BVAdd(BVMul(state['x'],state['y']), state['z']), BV(a*b,m))\n",
    "                \n",
    "gera_traco(declare,init,trans,invariante)"
   ]
  },
  {
   "cell_type": "markdown",
   "id": "ba8eb8d3",
   "metadata": {},
   "source": [
    "# Testes e os seus Outputs"
   ]
  },
  {
   "cell_type": "code",
   "execution_count": 7,
   "id": "846fc0a2",
   "metadata": {},
   "outputs": [
    {
     "ename": "SyntaxError",
     "evalue": "leading zeros in decimal integer literals are not permitted; use an 0o prefix for octal integers (2200602611.py, line 12)",
     "output_type": "error",
     "traceback": [
      "\u001b[1;36m  Input \u001b[1;32mIn [7]\u001b[1;36m\u001b[0m\n\u001b[1;33m    z= 0_10\u001b[0m\n\u001b[1;37m       ^\u001b[0m\n\u001b[1;31mSyntaxError\u001b[0m\u001b[1;31m:\u001b[0m leading zeros in decimal integer literals are not permitted; use an 0o prefix for octal integers\n"
     ]
    }
   ],
   "source": [
    "m = 10        \n",
    "a = 4\n",
    "b = 6 \n",
    "k = 5\n",
    "\n",
    "----------\n",
    "\n",
    "0\n",
    "pc= 0\n",
    "x= 4_10\n",
    "y= 6_10\n",
    "z= 0_10\n",
    "1\n",
    "pc= 1\n",
    "x= 4_10\n",
    "y= 6_10\n",
    "z= 0_10\n",
    "2\n",
    "pc= 2\n",
    "x= 4_10\n",
    "y= 6_10\n",
    "z= 0_10\n",
    "3\n",
    "pc= 1\n",
    "x= 8_10\n",
    "y= 3_10\n",
    "z= 0_10\n",
    "4\n",
    "pc= 3\n",
    "x= 8_10\n",
    "y= 3_10\n",
    "z= 0_10\n",
    "\n",
    "----------\n",
    "\n",
    "m = 10        \n",
    "a = 4\n",
    "b = 5 \n",
    "k = 5\n",
    "\n",
    "----------\n",
    "\n",
    "0\n",
    "pc= 0\n",
    "x= 4_10\n",
    "y= 5_10\n",
    "z= 0_10\n",
    "1\n",
    "pc= 1\n",
    "x= 4_10\n",
    "y= 5_10\n",
    "z= 0_10\n",
    "2\n",
    "pc= 3\n",
    "x= 4_10\n",
    "y= 5_10\n",
    "z= 0_10\n",
    "3\n",
    "pc= 1\n",
    "x= 4_10\n",
    "y= 4_10\n",
    "z= 4_10\n",
    "4\n",
    "pc= 2\n",
    "x= 4_10\n",
    "y= 4_10\n",
    "z= 4_10\n",
    "\n",
    "---------\n",
    "\n",
    "m = 5       \n",
    "a = 16\n",
    "b = 6 \n",
    "k = 4\n",
    "\n",
    "---------\n",
    "\n",
    "0\n",
    "pc= 0\n",
    "x= 16_5\n",
    "y= 6_5\n",
    "z= 0_5\n",
    "1\n",
    "pc= 1\n",
    "x= 16_5\n",
    "y= 6_5\n",
    "z= 0_5\n",
    "2\n",
    "pc= 2\n",
    "x= 16_5\n",
    "y= 6_5\n",
    "z= 0_5\n",
    "3\n",
    "pc= 5\n",
    "x= 0_5\n",
    "y= 3_5\n",
    "z= 0_5\n",
    "\n",
    "---------\n",
    "\n",
    "m = 10        \n",
    "a = 4\n",
    "b = 6 \n",
    "k = 10\n",
    "\n",
    "---------\n",
    "\n",
    "0\n",
    "pc= 0\n",
    "x= 4_10\n",
    "y= 6_10\n",
    "z= 0_10\n",
    "1\n",
    "pc= 1\n",
    "x= 4_10\n",
    "y= 6_10\n",
    "z= 0_10\n",
    "2\n",
    "pc= 2\n",
    "x= 4_10\n",
    "y= 6_10\n",
    "z= 0_10\n",
    "3\n",
    "pc= 1\n",
    "x= 8_10\n",
    "y= 3_10\n",
    "z= 0_10\n",
    "4\n",
    "pc= 3\n",
    "x= 8_10\n",
    "y= 3_10\n",
    "z= 0_10\n",
    "5\n",
    "pc= 1\n",
    "x= 8_10\n",
    "y= 2_10\n",
    "z= 8_10\n",
    "6\n",
    "pc= 2\n",
    "x= 8_10\n",
    "y= 2_10\n",
    "z= 8_10\n",
    "7\n",
    "pc= 1\n",
    "x= 16_10\n",
    "y= 1_10\n",
    "z= 8_10\n",
    "8\n",
    "pc= 3\n",
    "x= 16_10\n",
    "y= 1_10\n",
    "z= 8_10\n",
    "9\n",
    "pc= 1\n",
    "x= 16_10\n",
    "y= 0_10\n",
    "z= 24_10\n",
    "\n",
    "-----------\n",
    "\n",
    "m = 5        \n",
    "a = 6\n",
    "b = 0 \n",
    "k = 3\n",
    "\n",
    "-----------\n",
    "\n",
    "0\n",
    "pc= 0\n",
    "x= 6_5\n",
    "y= 0_5\n",
    "z= 0_5\n",
    "1\n",
    "pc= 1\n",
    "x= 6_5\n",
    "y= 0_5\n",
    "z= 0_5\n",
    "2\n",
    "pc= 4\n",
    "x= 6_5\n",
    "y= 0_5\n",
    "z= 0_5\n",
    "\n",
    "----------\n",
    "\n",
    "m = 5        \n",
    "a = 16\n",
    "b = 6 \n",
    "k = 5\n",
    "\n",
    "----------\n",
    "\n",
    "Impossivel criar um caminho"
   ]
  },
  {
   "cell_type": "code",
   "execution_count": null,
   "id": "e19d889d",
   "metadata": {},
   "outputs": [],
   "source": []
  }
 ],
 "metadata": {
  "kernelspec": {
   "display_name": "Python 3 (ipykernel)",
   "language": "python",
   "name": "python3"
  },
  "language_info": {
   "codemirror_mode": {
    "name": "ipython",
    "version": 3
   },
   "file_extension": ".py",
   "mimetype": "text/x-python",
   "name": "python",
   "nbconvert_exporter": "python",
   "pygments_lexer": "ipython3",
   "version": "3.10.4"
  }
 },
 "nbformat": 4,
 "nbformat_minor": 5
}
