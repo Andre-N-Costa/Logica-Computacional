{
 "cells": [
  {
   "cell_type": "markdown",
   "id": "6c845014",
   "metadata": {},
   "source": [
    "<div align=\"right\">  \n",
    "    Grupo 13  \n",
    "    \n",
    "    André Neves da Costa - A95869 \n",
    "    Filipe José Silva Castro - A96156 \n",
    "</div>"
   ]
  },
  {
   "cell_type": "markdown",
   "id": "78c6e387",
   "metadata": {},
   "source": [
    "# Variáveis de input\n",
    "\n",
    "+ **N** $\\rightarrow$ Número de estados que vai gerar a partir do estado inicial\n",
    "+ **M** $\\rightarrow$ Número de estados que vai gerar a partir do estado de erro"
   ]
  },
  {
   "cell_type": "markdown",
   "id": "8f6e5d5f",
   "metadata": {},
   "source": [
    "# Varáveis auxiliares\n",
    "\n",
    "+ **a**, **b**, **c** e **d** $\\rightarrow$ Variáveis que vão ter um bit gerado aleatoriamente e que vão definir o valor inicial dos inversores *A*, *B*, *D* e *C*, respetivamente\n",
    "\n",
    "+ **caminhos** $\\rightarrow$ Tuplo que contém 4 bits gerados aleatoriamente que vão definir que as transformações que vão ocorrer no bit de cada inversor, estando então, os valores das posições 0, 1, 2 e 3 do tuplo associados aos inversores *A*, *B*, *D* e *C*, respetivamente\n",
    "\n",
    "+ **state** $\\rightarrow$ Dicionário que contém o valor dos bits de todos os inversores em certo estado"
   ]
  },
  {
   "cell_type": "markdown",
   "id": "5f666fba",
   "metadata": {},
   "source": [
    "# Implementação em python"
   ]
  },
  {
   "cell_type": "markdown",
   "id": "97d5d6b2",
   "metadata": {},
   "source": [
    "A implementação começa com a atribuição de bits aleatórios às variáveis auxiliares, para isso usamos, da biblioteca random do python, o método *getrandbits*."
   ]
  },
  {
   "cell_type": "code",
   "execution_count": 1,
   "id": "17218d97",
   "metadata": {},
   "outputs": [],
   "source": [
    "from pysmt.shortcuts import *\n",
    "from pysmt.typing import INT\n",
    "from pysmt.typing import BOOL\n",
    "import itertools\n",
    "import random\n",
    "\n",
    "a = random.getrandbits(1)\n",
    "b = random.getrandbits(1)\n",
    "c = random.getrandbits(1)\n",
    "d = random.getrandbits(1)\n",
    "caminhos = (random.getrandbits(1),random.getrandbits(1),random.getrandbits(1),random.getrandbits(1))"
   ]
  },
  {
   "cell_type": "markdown",
   "id": "9dcec71b",
   "metadata": {},
   "source": [
    "## `genState`\n",
    "\n",
    "Recebe **s** e **i**:\n",
    "\n",
    "+ **s** $\\rightarrow$ String que definirá o nome do estado\n",
    "+ **i** $\\rightarrow$ Inteiro que definirá o número do estado\n",
    "\n",
    "Recebe uma string e um inteiro e a partir dos quais cria um estado.\n",
    "\n",
    "*pc1, pc2, pc3 e pc4 correpondem aos inversores A, B, D e C, respetivamente.*"
   ]
  },
  {
   "cell_type": "code",
   "execution_count": 2,
   "id": "157ac7fd",
   "metadata": {},
   "outputs": [],
   "source": [
    "def genState(s,i):\n",
    "    state = {}\n",
    "    state['pc1'] = Symbol(\"pc1\"+'!'+ s +str(i),BVType(1))\n",
    "    state['pc2'] = Symbol(\"pc2\"+'!'+ s +str(i),BVType(1))\n",
    "    state['pc3'] = Symbol(\"pc3\"+'!'+ s +str(i),BVType(1))\n",
    "    state['pc4'] = Symbol(\"pc4\"+'!'+ s +str(i),BVType(1))\n",
    "    return state"
   ]
  },
  {
   "cell_type": "markdown",
   "id": "af7fcce7",
   "metadata": {},
   "source": [
    "## `init`\n",
    "\n",
    "Verifica se **state** é um estado inicial usando o seguinte predicado:\n",
    "\n",
    "$$ (pc1 = a \\wedge pc2 = b \\wedge pc3 = c \\wedge pc4 = d) $$"
   ]
  },
  {
   "cell_type": "code",
   "execution_count": 3,
   "id": "f85c0afc",
   "metadata": {},
   "outputs": [],
   "source": [
    "def init(state):\n",
    "    return And(Equals(state['pc1'],BV(a,1)), Equals(state['pc2'], BV(b,1)),\n",
    "        Equals(state['pc3'], BV(c,1)),Equals(state['pc4'], BV(d,1)))"
   ]
  },
  {
   "cell_type": "markdown",
   "id": "b5ae43a6",
   "metadata": {},
   "source": [
    "## `error`\n",
    "\n",
    "Verifica se **state** é o estado de erro usando o seguinte predicado:\n",
    "\n",
    "$$ (pc1 = 0 \\wedge pc2 = 0 \\wedge pc3 = 0 \\wedge pc4 = 0) $$"
   ]
  },
  {
   "cell_type": "code",
   "execution_count": 4,
   "id": "9dfc46e7",
   "metadata": {},
   "outputs": [],
   "source": [
    "def error(state):\n",
    "    return And(Equals(state['pc1'],BV(0,1)),Equals(state['pc2'],BV(0,1)),Equals(state['pc3'],BV(0,1)),Equals(state['pc4'],BV(0,1)))"
   ]
  },
  {
   "cell_type": "markdown",
   "id": "919babc0",
   "metadata": {},
   "source": [
    "## `trans`\n",
    "\n",
    "Verifica que transformação é possível fazer entre os estados **curr** e **prox**.\n",
    "\n",
    "Para isso verifica a variável **caminhos** para todos os inversores e caso tenha o valor 0, inverte o bit desse inversor, caso contrário, faz o Xor entre o bit desse inversor e o do intersor anterior."
   ]
  },
  {
   "cell_type": "code",
   "execution_count": 5,
   "id": "30b15150",
   "metadata": {},
   "outputs": [],
   "source": [
    "def trans(curr,prox):\n",
    "    if caminhos[0] == 0:\n",
    "        t0 = And(Equals(prox['pc1'],BVNot(curr['pc1'])))\n",
    "    else:\n",
    "        t0 = And(Equals(prox['pc1'],BVXor(curr['pc1'], curr['pc4'])))\n",
    "    if caminhos[1] == 0:\n",
    "        t1 = And(Equals(prox['pc2'],BVNot(curr['pc2'])))\n",
    "    else:\n",
    "        t1 = And(Equals(prox['pc2'],BVXor(curr['pc2'],curr['pc1'])))\n",
    "    if caminhos[2] == 0:\n",
    "        t2 = And(Equals(prox['pc3'],BVNot(curr['pc3'])))\n",
    "    else:\n",
    "        t2 = And(Equals(prox['pc3'],BVXor(curr['pc3'], curr['pc2'])))\n",
    "    if caminhos[3] == 0:\n",
    "        t3 = And(Equals(prox['pc4'],BVNot(curr['pc4'])))\n",
    "    else:\n",
    "        t3 = And(Equals(prox['pc4'],BVXor(curr['pc4'],curr['pc3'])))\n",
    "    \n",
    "    return And(t0,t1,t2,t3)"
   ]
  },
  {
   "cell_type": "markdown",
   "id": "56da52b7",
   "metadata": {},
   "source": [
    "## `bmc`\n",
    "\n",
    "Aqui é implementado o algoritnmo de *bounded model checking* onde se dá um **n** e, através dos valores gerados aleatoriamente, o programa vai iterar por range(1,n+1) criando traços do estado inicial até ao estado n e, caso em alguma dessas iterações se encontre um erro, a execução para e devolve até que tamanho de traços é que dá para resolver o problema para os valores gerados."
   ]
  },
  {
   "cell_type": "code",
   "execution_count": 6,
   "id": "60e31786",
   "metadata": {},
   "outputs": [
    {
     "name": "stdout",
     "output_type": "stream",
     "text": [
      "valores estado inicial: pc1 = 1, pc2 = 1, pc3 = 1, pc4 = 1\n",
      "caminhos: (1, 1, 1, 0)\n",
      "Estado: 0\n",
      "           pc1 = 1_1\n",
      "           pc2 = 1_1\n",
      "           pc3 = 1_1\n",
      "           pc4 = 1_1\n",
      "Estado: 1\n",
      "           pc1 = 0_1\n",
      "           pc2 = 0_1\n",
      "           pc3 = 0_1\n",
      "           pc4 = 0_1\n",
      "A propriedade é válida para traços de tamanho até 1\n"
     ]
    }
   ],
   "source": [
    "def bmc(genState,init,trans,error,n):\n",
    "    for k in range(1,n+1):\n",
    "        with Solver(name=\"z3\") as s:\n",
    "            \n",
    "            trace = [genState('X',i) for i in range(k)]\n",
    "    \n",
    "            s.add_assertion(init(trace[0]))\n",
    "            for i in range(k-1):\n",
    "                s.add_assertion(trans(trace[i],trace[i+1]))\n",
    "                \n",
    "            s.add_assertion(error(trace[-1]))\n",
    "        \n",
    "            if s.solve():\n",
    "                for i in range(k):\n",
    "                    print(\"Estado:\",i)\n",
    "                    for v in trace[i]:\n",
    "                        print(\"          \",v,'=',s.get_value(trace[i][v]))\n",
    "                break\n",
    "\n",
    "    print(f\"A propriedade é válida para traços de tamanho até {k-1}\")\n",
    "    \n",
    "\n",
    "\n",
    "print(f\"valores estado inicial: pc1 = {a}, pc2 = {b}, pc3 = {c}, pc4 = {d}\")\n",
    "print(f\"caminhos: {caminhos}\")                        \n",
    "bmc(genState,init,trans,error,50)"
   ]
  },
  {
   "cell_type": "markdown",
   "id": "01858459",
   "metadata": {},
   "source": [
    "## `invert`\n",
    "\n",
    "Inverte as transições.\n",
    "\n",
    "\n",
    "## `same`\n",
    "\n",
    "Verifica se 2 estados são iguais.\n",
    "\n",
    "## `baseName`\n",
    "\n",
    "Pega em todos os caracteres antes de um \"!\" num string.\n",
    "\n",
    "\n",
    "## `rename`\n",
    "\n",
    "Substitui o nome das varáveis de um certo interpolante pelas presentes no estado dado."
   ]
  },
  {
   "cell_type": "code",
   "execution_count": 8,
   "id": "371155dc",
   "metadata": {},
   "outputs": [],
   "source": [
    "def invert(trans):\n",
    "    return (lambda u, v : trans(v,u))\n",
    "\n",
    "def same(state1,state2):\n",
    "    return And([Equals(state1[x],state2[x]) for x in state1])\n",
    "\n",
    "def baseName(s):\n",
    "    return ''.join(list(itertools.takewhile(lambda x: x!='!', s)))\n",
    "\n",
    "def rename(form,state):\n",
    "    vs = get_free_variables(form)\n",
    "    pairs = [ (x,state[baseName(x.symbol_name())]) for x in vs ]\n",
    "    return form.substitute(dict(pairs))"
   ]
  },
  {
   "cell_type": "markdown",
   "id": "250c8670",
   "metadata": {},
   "source": [
    "## `model_checking`\n",
    "\n",
    "É usado o algoritmo *model checking* para verificar se o sistema é seguro.\n",
    "\n",
    "Recebe **vars**, **init**, **trans**, **error**, **N**, **M**,\n",
    "\n",
    "+ **vars** $\\rightarrow$ Lista com os nomes das varáveis existentes em cada estado ['pc1','pc2','pc3','pc4']\n",
    "+ **N** e **M** $\\rightarrow$ Número de iterações que serão feitas pelo model checking a partir do estado inicial (*N*) e a partir do estado de erro (*M*)\n",
    "\n",
    "Nesta implementação do algoritmo *model checking*, serão percorridos os estados dos inversores a partir do estado inicial e do estado de erro, verificando se em algum momento se intersetam, caso se intersetem é dado o sistema como inseguro, caso contrário  vai se verificar se o interpolante C é um invariante das transformações, se for, o sistema é seguro, senão, é procurado o majorante S, se for possível encontrar o majorante então o sistema é seguro, caso não seja possível, o ciclo volta ao início e é incrementado o valor de **n** ou **m**.\n",
    "\n",
    "E é, então, feito isto até se atingir os valores máximo de **n** e **m** dados no input como **N** e **M**."
   ]
  },
  {
   "cell_type": "code",
   "execution_count": 9,
   "id": "1f4e59b7",
   "metadata": {},
   "outputs": [
    {
     "name": "stdout",
     "output_type": "stream",
     "text": [
      "valores estado inicial: pc1 = 1, pc2 = 1, pc3 = 1, pc4 = 1\n",
      "caminhos: (1, 1, 1, 0)\n",
      "Não foi possível encontrar o majorante\n",
      "Não foi possível encontrar o majorante\n",
      "Não foi possível encontrar o majorante\n",
      "Não foi possível encontrar o majorante\n",
      "Não foi possível encontrar o majorante\n",
      "Não foi possível encontrar o majorante\n",
      "Não foi possível encontrar o majorante\n",
      "Não foi possível encontrar o majorante\n",
      "Não foi possível encontrar o majorante\n",
      "Não foi possível encontrar o majorante\n",
      "Não foi possível encontrar o majorante\n",
      "Não foi possível encontrar o majorante\n",
      "Não foi possível encontrar o majorante\n",
      "Não foi possível encontrar o majorante\n",
      "Não foi possível encontrar o majorante\n",
      "Não foi possível encontrar o majorante\n"
     ]
    }
   ],
   "source": [
    "def model_checking(vars,init,trans,error,N,M):\n",
    "    with Solver(name='z3') as s:\n",
    "        \n",
    "        X = [genState('X',i) for i in range(N+1)]\n",
    "        Y = [genState('Y',i) for i in range(M+1)]\n",
    "        \n",
    "        order = sorted([(a,b) for a in range(1,N+1) for b in range(1,M+1)],key=lambda tup:tup[0]+tup[1])\n",
    "        \n",
    "        for (n,m) in order:\n",
    "             \n",
    "            I = init(X[0])\n",
    "            Tn = And([trans(X[i],X[i+1]) for i in range(n)])\n",
    "            Rn = And(I,Tn)\n",
    "            E = error(Y[0])\n",
    "            Bm = And([invert(trans)(Y[i],Y[i+1]) for i in range(m)])\n",
    "            Um = And(E,Bm)\n",
    "            Vnm = And(Rn,same(X[n],Y[m]),Um)\n",
    "            \n",
    "            if s.solve([Vnm]):\n",
    "                print(f\"unsafe -> n:{n}, m:{m}\")\n",
    "            \n",
    "            C = binary_interpolant(And(Rn,same(X[n],Y[m])), Um)\n",
    "            \n",
    "            if C is None:\n",
    "                print(\"interpolant None\")\n",
    "                break\n",
    "            \n",
    "            C0 = rename(C,X[0])\n",
    "            C1 = rename(C,X[1])\n",
    "            T = trans(X[0],X[1])\n",
    "            \n",
    "            if not s.solve([C0,T,Not(C1)]):\n",
    "                print(f\"safe -> n:{n}, m:{m}\")\n",
    "                return \n",
    "            else:\n",
    "                \n",
    "                S = rename(C,X[n])\n",
    "                while True:\n",
    "                    A = And(S,trans(X[n],Y[m]))\n",
    "                    if s.solve([A,Um]):\n",
    "                        print(\"Não foi possível encontrar o majorante\")\n",
    "                        break\n",
    "                    else:\n",
    "                        Cnew = binary_interpolant(A,Um)\n",
    "                        Cn = rename(Cnew,X[n])\n",
    "                        \n",
    "                        if s.solve([Cn,Not(S)]):\n",
    "                            S = Or(S,Cn)\n",
    "                        else:\n",
    "                            print(f\"safe -> n:{n}, m:{m}\")\n",
    "                            return \n",
    "\n",
    "print(f\"valores estado inicial: pc1 = {a}, pc2 = {b}, pc3 = {c}, pc4 = {d}\")\n",
    "print(f\"caminhos: {caminhos}\")\n",
    "model_checking(['pc1','pc2','pc3','pc4'],init,trans,error,4,4)"
   ]
  },
  {
   "cell_type": "markdown",
   "id": "073f2346",
   "metadata": {},
   "source": [
    "# Testes"
   ]
  },
  {
   "cell_type": "code",
   "execution_count": null,
   "id": "b529116a",
   "metadata": {},
   "outputs": [],
   "source": [
    "--------------------------------------------------------------------|\n",
    "\n",
    "valores estado inicial: pc1 = 1, pc2 = 1, pc3 = 1, pc4 = 1\n",
    "caminhos: (0, 0, 0, 0)\n",
    "\n",
    "------------------------ bmc   \n",
    "    \n",
    "Estado: 0\n",
    "           pc1 = 1_1\n",
    "           pc2 = 1_1\n",
    "           pc3 = 1_1\n",
    "           pc4 = 1_1\n",
    "Estado: 1\n",
    "           pc1 = 0_1\n",
    "           pc2 = 0_1\n",
    "           pc3 = 0_1\n",
    "           pc4 = 0_1\n",
    "A propriedade é válida para traços de tamanho até 1\n",
    "\n",
    "------------------------ model_checking\n",
    "\n",
    "Não foi possível encontrar o majorante\n",
    "unsafe -> n:1, m:2\n",
    "interpolant None\n",
    "\n",
    "--------------------------------------------------------------------|\n",
    "\n",
    "valores estado inicial: pc1 = 0, pc2 = 0, pc3 = 0, pc4 = 0\n",
    "caminhos: (1, 1, 1, 1)\n",
    "    \n",
    "------------------------ bmc      \n",
    "    \n",
    "Estado: 0\n",
    "           pc1 = 0_1\n",
    "           pc2 = 0_1\n",
    "           pc3 = 0_1\n",
    "           pc4 = 0_1\n",
    "A propriedade é válida para traços de tamanho até 0\n",
    "\n",
    "------------------------ model_checking\n",
    "\n",
    "unsafe -> n:1, m:1\n",
    "interpolant None\n",
    "\n",
    "--------------------------------------------------------------------|\n",
    "\n",
    "valores estado inicial: pc1 = 0, pc2 = 1, pc3 = 1, pc4 = 1\n",
    "caminhos: (0, 0, 0, 0)\n",
    "\n",
    "------------------------ bmc     \n",
    "    \n",
    "A propriedade é válida para traços de tamanho até 49   | Não encontrou situação de erro em 50 iterações\n",
    "\n",
    "------------------------ model_checking\n",
    "\n",
    "Não foi possível encontrar o majorante   | Acontece infinitamente\n",
    "\n",
    "--------------------------------------------------------------------|\n",
    "\n",
    "valores estado inicial: pc1 = 0, pc2 = 0, pc3 = 1, pc4 = 0\n",
    "caminhos: (1, 1, 1, 0)\n",
    "    \n",
    "------------------------ bmc     \n",
    "    \n",
    "Estado: 0\n",
    "           pc1 = 0_1\n",
    "           pc2 = 0_1\n",
    "           pc3 = 1_1\n",
    "           pc4 = 0_1\n",
    "Estado: 1\n",
    "           pc1 = 0_1\n",
    "           pc2 = 0_1\n",
    "           pc3 = 1_1\n",
    "           pc4 = 1_1\n",
    "Estado: 2\n",
    "           pc1 = 1_1\n",
    "           pc2 = 0_1\n",
    "           pc3 = 1_1\n",
    "           pc4 = 0_1\n",
    "Estado: 3\n",
    "           pc1 = 1_1\n",
    "           pc2 = 1_1\n",
    "           pc3 = 1_1\n",
    "           pc4 = 1_1\n",
    "Estado: 4\n",
    "           pc1 = 0_1\n",
    "           pc2 = 0_1\n",
    "           pc3 = 0_1\n",
    "           pc4 = 0_1\n",
    "A propriedade é válida para traços de tamanho até 4\n",
    "\n",
    "------------------------ model_checking\n",
    "\n",
    "Não foi possível encontrar o majorante\n",
    "Não foi possível encontrar o majorante\n",
    "Não foi possível encontrar o majorante\n",
    "unsafe -> n:1, m:3\n",
    "interpolant None\n",
    "\n",
    "--------------------------------------------------------------------|"
   ]
  }
 ],
 "metadata": {
  "kernelspec": {
   "display_name": "Python 3 (ipykernel)",
   "language": "python",
   "name": "python3"
  },
  "language_info": {
   "codemirror_mode": {
    "name": "ipython",
    "version": 3
   },
   "file_extension": ".py",
   "mimetype": "text/x-python",
   "name": "python",
   "nbconvert_exporter": "python",
   "pygments_lexer": "ipython3",
   "version": "3.10.4"
  }
 },
 "nbformat": 4,
 "nbformat_minor": 5
}
