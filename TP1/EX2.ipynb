{
 "cells": [
  {
   "cell_type": "markdown",
   "id": "29ac8082",
   "metadata": {},
   "source": [
    "<div align=\"right\">  \n",
    "    Grupo 13  \n",
    "    \n",
    "    André Neves da Costa - A95869 \n",
    "    Filipe José Silva Castro - A96156 \n",
    "</div>"
   ]
  },
  {
   "cell_type": "markdown",
   "id": "efa57029",
   "metadata": {},
   "source": [
    "## Variáveis de input:\n",
    "+ *q*, *m*, *n* $\\rightarrow$  Números inteiros"
   ]
  },
  {
   "cell_type": "markdown",
   "id": "b9434fe0",
   "metadata": {},
   "source": [
    "## Variáveis auxiliares:\n",
    "+ *d* $\\rightarrow$ Números inteiro dependente de q\n",
    "+ *L* $\\rightarrow$ Matriz aleatória com dimensões *m*(linhas) $\\times$ *n*(colunas) representada através de um dicionário cujas keys são tuplos (j,i) correspondendo j às linhas e i às colunas\n",
    "+ *e* $\\rightarrow$ lista onde se vão armazenar os valores do vetor que satisfaz o problema"
   ]
  },
  {
   "cell_type": "markdown",
   "id": "12e73535",
   "metadata": {},
   "source": [
    "## Condições:\n",
    "1. *e* não pode ser um vetor nulo\n",
    "2. $ q \\ge 3 $\n",
    "3. $m > n$\n",
    "4. $|m| > 1 + |n|$\n",
    "5. $|q| > |m|$\n",
    "6. *q* é um número primo\n",
    "7. $\\forall\\,i < n\\,\\centerdot\\,\\sum_{j< m}\\,e_j\\,\\times\\,\\mathsf{L}_{j,i}\\;\\equiv\\;0\\mod q$"
   ]
  },
  {
   "cell_type": "markdown",
   "id": "b6e253c9",
   "metadata": {},
   "source": [
    "## Critérios de otimização\n",
    "1. Minimizar o numero de componentes não nulos de *e*"
   ]
  },
  {
   "cell_type": "markdown",
   "id": "5e3313ec",
   "metadata": {},
   "source": [
    "## Implementação em python:"
   ]
  },
  {
   "cell_type": "code",
   "execution_count": 232,
   "id": "c5ccc0d4",
   "metadata": {},
   "outputs": [],
   "source": [
    "import random\n",
    "from ortools.sat.python import cp_model\n",
    "\n",
    "#q,m,n = 67,32,8\n",
    "#q,m,n = 37,16,7\n",
    "#q,m,n = 37,16,6\n",
    "\n",
    "\n",
    "#q,m,n = 37,16,5\n",
    "\n",
    "#    Vetor e = [1, 0, -1, 1, 1, 0, 0, 0, 1, -1, 0, 0, -1, 0, 1, -1]\n",
    "\n",
    "#    Matriz L= \n",
    "#    [12, 2, 0, 11, 13]\n",
    "#    [-11, -1, 4, -8, 8]\n",
    "#    [16, -6, -11, 9, -3]\n",
    "#    [-11, -1, 0, 10, -6]\n",
    "#    [-1, 2, -17, 10, 14]\n",
    "#    [-13, 17, -15, -5, -2]\n",
    "#    [-13, 17, 11, -2, -14]\n",
    "#    [-5, 0, 18, 4, -7]\n",
    "#    [13, 0, -5, -6, 11]\n",
    "#    [18, -13, 15, 3, -1]\n",
    "#    [12, -12, 3, -5, -3]\n",
    "#    [-18, -7, 1, 1, 5]\n",
    "#    [-6, 2, -9, 17, 9]\n",
    "#    [5, 16, -14, 9, -12]\n",
    "#    [9, -16, 0, -5, -12]\n",
    "#    [-6, 4, -17, -9, 15]\n",
    "\n",
    "#q,m,n = 37,16,4\n",
    "\n",
    "#    Vetor e = [0, 1, -1, 1, -1, -1, 1, 1, 0, 1, 0, -1, 1, 1, 0, 1]\n",
    "\n",
    "#    Matriz L= \n",
    "#    [6, 15, -5, 14]\n",
    "#    [-13, 0, 10, 16]\n",
    "#    [16, -8, 14, 12]\n",
    "#    [14, 2, 0, -12]\n",
    "#    [6, -10, -18, -15]\n",
    "#    [-16, 15, 12, 3]\n",
    "#    [-17, 2, 8, -4]\n",
    "#    [-10, -10, 9, 15]\n",
    "#    [-14, -4, 5, -17]\n",
    "#    [-8, 8, -15, 18]\n",
    "#    [-14, 7, -15, -3]\n",
    "#    [-11, 3, 10, 18]\n",
    "#    [12, -17, 5, -12]\n",
    "#    [5, 15, -5, -1]\n",
    "#    [-17, -17, -14, 11]\n",
    "#    [12, 0, 6, -2]\n",
    "\n",
    "q,m,n = 17,8,3\n",
    "\n",
    "#    Vetor e = [-1, 0, -1, 1, 0, -1, 1, 0]\n",
    "\n",
    "#    Matriz L= \n",
    "#    [0, -8, -5]\n",
    "#    [-8, 2, 6]\n",
    "#    [-8, -1, -5]\n",
    "#    [-6, 4, 5]\n",
    "#    [1, 3, 1]\n",
    "#    [-8, -5, 1]\n",
    "#    [7, -1, 3]\n",
    "#    [-8, 1, 2]\n",
    "\n",
    "#q,m,n = 17,8,2\n",
    "\n",
    "#    Vetor e = [0, 1, 0, -1, 0, 0, 1, 0]\n",
    "\n",
    "#    Matriz L= \n",
    "#    [-3, 7]\n",
    "#    [0, 6]\n",
    "#    [3, 7]\n",
    "#    [1, 3]\n",
    "#    [-6, 8]\n",
    "#    [-1, 5]\n",
    "#    [1, -3]\n",
    "#    [1, 4]\n",
    "\n",
    "#q,m,n = 8,4,1\n",
    "\n",
    "#    Vetor e = [1, 0, 0, 0]\n",
    "\n",
    "#    Matriz L= \n",
    "#    [0]\n",
    "#    [-2]\n",
    "#    [-1]\n",
    "#    [-3]\n",
    "\n",
    "d = int((q-1)/2)\n",
    "\n",
    "L = {}\n",
    "\n",
    "for j in range(m):\n",
    "    for i in range(n):\n",
    "       L[(j,i)] = random.randint(-d,d)\n",
    "        \n",
    "\n",
    "model = cp_model.CpModel()      \n",
    "\n",
    "e = []\n",
    "\n",
    "for i in range(m):\n",
    "    e.append(model.NewIntVar(-1,1,f'[{i}]'))"
   ]
  },
  {
   "cell_type": "markdown",
   "id": "90bd0c45",
   "metadata": {},
   "source": [
    "1. e não pode ser um vetor nulo\n",
    "$$\\sum_{j<m} (e_{j})^2 \\ge 1$$"
   ]
  },
  {
   "cell_type": "code",
   "execution_count": null,
   "id": "ceb304d6",
   "metadata": {},
   "outputs": [],
   "source": [
    "ee = []\n",
    "\n",
    "for i in range(m):\n",
    "    ee.append(model.NewIntVar(0, 1, f'e[{i}]*e[{i}]'))\n",
    "    model.AddMultiplicationEquality(ee[i], [e[i],e[i]])\n",
    "\n",
    "model.Add(sum([ee[j] for j in range(m)]) >= 1)"
   ]
  },
  {
   "cell_type": "markdown",
   "id": "128becc8",
   "metadata": {},
   "source": [
    "2. $$ q \\ge 3 $$"
   ]
  },
  {
   "cell_type": "code",
   "execution_count": null,
   "id": "d8340a8d",
   "metadata": {},
   "outputs": [],
   "source": [
    "model.Add(q >= 3)"
   ]
  },
  {
   "cell_type": "markdown",
   "id": "b4efdea2",
   "metadata": {},
   "source": [
    "3. $$m > n$$"
   ]
  },
  {
   "cell_type": "code",
   "execution_count": null,
   "id": "7ef16fd5",
   "metadata": {},
   "outputs": [],
   "source": [
    "model.Add(m > n)"
   ]
  },
  {
   "cell_type": "markdown",
   "id": "7a88f555",
   "metadata": {},
   "source": [
    "4. $$|m| > 1 + |n|$$"
   ]
  },
  {
   "cell_type": "code",
   "execution_count": null,
   "id": "3478e66c",
   "metadata": {},
   "outputs": [],
   "source": [
    "model.Add(len(bin(m)) > 1+len(bin(n)))"
   ]
  },
  {
   "cell_type": "markdown",
   "id": "af2f189a",
   "metadata": {},
   "source": [
    "5. $$|q| > |m|$$"
   ]
  },
  {
   "cell_type": "code",
   "execution_count": null,
   "id": "25d9511f",
   "metadata": {},
   "outputs": [],
   "source": [
    "model.Add(len(bin(q)) > len(bin(m)))"
   ]
  },
  {
   "cell_type": "markdown",
   "id": "4845cc2a",
   "metadata": {},
   "source": [
    "6. $$\\forall_{1<i<q}\\,i\\;\\not\\equiv\\;0\\mod q$$"
   ]
  },
  {
   "cell_type": "code",
   "execution_count": 238,
   "id": "8995e774",
   "metadata": {},
   "outputs": [],
   "source": [
    "for i in range(2,q):\n",
    "    model.Add(i%q != 0)"
   ]
  },
  {
   "cell_type": "markdown",
   "id": "17b2597d",
   "metadata": {},
   "source": [
    "7. $$\\forall\\,i < n\\,\\centerdot\\,\\sum_{j< m}\\,e_j\\,\\times\\,\\mathsf{L}_{j,i}\\;\\equiv\\;0\\mod q$$"
   ]
  },
  {
   "cell_type": "code",
   "execution_count": 239,
   "id": "e96f6104",
   "metadata": {},
   "outputs": [],
   "source": [
    "M={}\n",
    "\n",
    "for i in range(n):\n",
    "    for j in range(m):\n",
    "        M[j,i]=model.NewIntVar(-d,d,f'M[{j,i}]')\n",
    "        \n",
    "for j in range(m):\n",
    "    for i in range(n):\n",
    "        model.AddMultiplicationEquality(M[j,i],[e[j],L[j,i]])\n",
    "    \n",
    "msom={}\n",
    "for j in range(m):\n",
    "    msom[j]=model.NewIntVar(-m*d,m*d,f'msom[{j}]')\n",
    "\n",
    "for i in range(n):\n",
    "    model.Add(sum([M[j,i] for j in range(m)]) == msom[j])\n",
    "    \n",
    "x={}\n",
    "for j in range(m):\n",
    "    x[j]=model.NewIntVar(0,q,f'M[{j,i}]')\n",
    "    model.AddModuloEquality(x[j],msom[j],q)\n",
    "    \n",
    "for j in range(m):\n",
    "    model.Add(x[j] == 0)"
   ]
  },
  {
   "cell_type": "markdown",
   "id": "cf054ba1",
   "metadata": {},
   "source": [
    "8. Minimizar o número de componentes não nulos de e"
   ]
  },
  {
   "cell_type": "code",
   "execution_count": 240,
   "id": "5c084e32",
   "metadata": {},
   "outputs": [],
   "source": [
    "model.Minimize(sum([ee[j] for j in range(m)]))"
   ]
  },
  {
   "cell_type": "markdown",
   "id": "4dc57a27",
   "metadata": {},
   "source": [
    "## Imprimir o resultado:"
   ]
  },
  {
   "cell_type": "code",
   "execution_count": null,
   "id": "d28dabf9",
   "metadata": {},
   "outputs": [],
   "source": [
    "solver = cp_model.CpSolver()\n",
    "\n",
    "status = solver.Solve(model)\n",
    "resultado=[]    \n",
    "    \n",
    "if status == cp_model.OPTIMAL or status == cp_model.FEASIBLE:\n",
    "    for j in range(m):\n",
    "        resultado.append(solver.Value(e[j]))\n",
    "    print(\"\\nVetor e =\",resultado)\n",
    "else:\n",
    "    print('\\nNão existe solução')\n",
    "\n",
    "print(\"\\nMatriz L= \")\n",
    "for j in range(m):\n",
    "    resultado=[]\n",
    "    for i in range(n):\n",
    "        resultado.append(L[(j,i)])\n",
    "    print(resultado)"
   ]
  }
 ],
 "metadata": {
  "kernelspec": {
   "display_name": "Python 3 (ipykernel)",
   "language": "python",
   "name": "python3"
  },
  "language_info": {
   "codemirror_mode": {
    "name": "ipython",
    "version": 3
   },
   "file_extension": ".py",
   "mimetype": "text/x-python",
   "name": "python",
   "nbconvert_exporter": "python",
   "pygments_lexer": "ipython3",
   "version": "3.10.4"
  }
 },
 "nbformat": 4,
 "nbformat_minor": 5
}
