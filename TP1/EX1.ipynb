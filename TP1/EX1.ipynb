{
 "cells": [
  {
   "cell_type": "markdown",
   "id": "17e25759",
   "metadata": {},
   "source": [
    "<div align=\"right\">  \n",
    "    Grupo 13  \n",
    "    \n",
    "    André Neves da Costa - A95869 \n",
    "    Filipe José Silva Castro - A96156 \n",
    "</div>"
   ]
  },
  {
   "cell_type": "markdown",
   "id": "b4bf127d",
   "metadata": {},
   "source": [
    "## Variáveis de Input:\n",
    "\n",
    "+ *S* $\\rightarrow$ Número de **salas**\n",
    "+ *T* $\\rightarrow$ Número de **slots**\n",
    "+ *P* $\\rightarrow$ Número de **projetos**\n",
    "+ *C* $\\rightarrow$ Número de **colaboradores**\n",
    "+ *projetos* $\\rightarrow$ Dicionário cujas keys são os **projetos** e os values são um tuplo com a **lista de colaboradores**, **líder do projeto** e **número mínimo de reuniões** desse projeto\n",
    "+ *disp* $\\rightarrow$ Lista de listas que representa a **disponibilidade de cada colaborador**, cada posição de disp está associada ao colaborador com o mesmo número (lista no posição 0 de disp representa a disponibilidade do colaborador 0"
   ]
  },
  {
   "cell_type": "markdown",
   "id": "2500b943",
   "metadata": {},
   "source": [
    "## Variáveis auxiliares:\n",
    "\n",
    "+ $X_{s,t,p,c}\\rightarrow$ Representa a participação do colaborador **c** na reunião do projeto **p** no slot **t** e na sala **s**,\n",
    "$s\\in[1..S],t\\in[1..T],p\\in[1..P],c\\in[1..C]$"
   ]
  },
  {
   "cell_type": "markdown",
   "id": "23b7eb19",
   "metadata": {},
   "source": [
    "## Condições:\n",
    "\n",
    "1. Em cada sala e slot pode ter no maximo uma reunião\n",
    "2. O lider de cada projeto tem que participar em todas as reuniões\n",
    "3. Em cada reunião têm que participar no minimo 50% dos seus colaboradores\n",
    "4. Cada projeto tem um numero minimo de reunioes semanais\n",
    "5. Os colaboradores só conseguem participar em reuniões em slots que têm disponibilidade\n",
    "6. Os colaboradores não podem ter mais do que uma reunião no mesmo slot\n",
    "7. Cada colaborador só pode participar em reuniões de projetos em que está incluido\n",
    "8. Cada projeto só pode ter 1 ou 0 reuniões em cada slot"
   ]
  },
  {
   "cell_type": "markdown",
   "id": "58600498",
   "metadata": {},
   "source": [
    "## Critérios de otimização:\n",
    "\n",
    "1. Maximizar o número de reuniões efetivamente realizadas\n",
    "2. Minimizar o número médio de reuniões por participante"
   ]
  },
  {
   "cell_type": "markdown",
   "id": "ecb561af",
   "metadata": {},
   "source": [
    "## Implementação em python:"
   ]
  },
  {
   "cell_type": "code",
   "execution_count": null,
   "id": "33457a68",
   "metadata": {},
   "outputs": [],
   "source": [
    "from ortools.linear_solver import pywraplp\n",
    "\n",
    "horario = pywraplp.Solver.CreateSolver('SCIP')\n",
    "\n",
    "S, T, P, C = 2, 4, 2, 6\n",
    "\n",
    "#projetos = {projeto:([colaboradores],lider,nº minimo reunioes)}\n",
    "projetos = {0:([0,1,2],1,2), 1:([3,4,5],3,2)}\n",
    "\n",
    "disp = [[1,1,1,1],[1,1,1,1],[1,1,0,1],[1,1,1,1],[1,1,1,1],[1,0,1,1]]\n",
    "\n",
    "\n",
    "\n",
    "'''\n",
    "\n",
    "S, T, P, C = 2,5,4,10\n",
    "\n",
    "projetos = {0:([0,1,2],1,2), 1:([3,4,5],3,2),2:([1,4,8,9],9,1),3:([3,6,7,8],6,2)}\n",
    "\n",
    "disp = [[1,1,1,1,1],[1,1,1,1,0],[1,1,0,1,1],[0,1,1,1,1],[1,1,1,1,0],[1,0,1,1,1],[0,1,1,1,1],[1,1,0,1,1],[0,1,1,1,0],[1,1,1,0,1]]\n",
    "\n",
    "\n",
    "\n",
    "S, T, P, C = 4,6,4,12\n",
    "\n",
    "projetos = {0:([0,1,2,4,9,11],1,2), 1:([2,4,7,9],3,2),2:([1,2,7,9,10],9,3),3:([3,6,7,8,11],6,2)}\n",
    "\n",
    "disp = []\n",
    "for i in range(12):\n",
    "    disp.append([0,0,0,0,0,0])\n",
    "'''"
   ]
  },
  {
   "cell_type": "code",
   "execution_count": 41,
   "id": "2620ed98",
   "metadata": {},
   "outputs": [],
   "source": [
    "X = {}\n",
    "for s in range(S):\n",
    "    for t in range(T):\n",
    "        for p in range(P):\n",
    "            for c in range(C):\n",
    "                X[s,t,p,c] = horario.BoolVar(f'X[{s}][{t}][{p}][{c}]')"
   ]
  },
  {
   "cell_type": "markdown",
   "id": "70d9f125",
   "metadata": {},
   "source": [
    "1. Em cada sala e slot pode ter no maximo uma reunião \n",
    "$$\\forall_{s<S} \\forall_{t<T}, \\sum_{p<P} X_{s,t,p,projetos[p][1]} \\le 1$$"
   ]
  },
  {
   "cell_type": "code",
   "execution_count": 42,
   "id": "05abcb1d",
   "metadata": {},
   "outputs": [],
   "source": [
    "for s in range(S):\n",
    "    for t in range(T):\n",
    "        horario.Add(sum([X[s,t,p,projetos[p][1]] for p in range(P)]) <= 1)"
   ]
  },
  {
   "cell_type": "markdown",
   "id": "8b57b141",
   "metadata": {},
   "source": [
    "2. O lider de cada projeto tem que participar em todas as reuniões$$ \\forall_{t<T}\\forall_{p<P}\\forall_{s<S}\\forall_{c<C},X_{s,t,p,c} \\le X_{s,t,p,projetos[p][1]} $$"
   ]
  },
  {
   "cell_type": "code",
   "execution_count": 43,
   "id": "dcb0c4d6",
   "metadata": {},
   "outputs": [],
   "source": [
    "for t in range(T):\n",
    "    for p in range(P):\n",
    "        for s in range(S):\n",
    "            for c in range(C):\n",
    "                horario.Add(X[s,t,p,c] <= X[s,t,p,projetos[p][1]])"
   ]
  },
  {
   "cell_type": "markdown",
   "id": "b292096d",
   "metadata": {},
   "source": [
    "3. Em cada reunião têm que participar no minimo 50% dos seus colaboradores$$ \\forall_{t<T}\\forall_{p<P}\\forall_{s<S},\\sum_{c<C} X_{s,t,p,c} \\ge len(projetos[p][0])/2 \\times X_{s,t,p,projetos[p][1]}$$"
   ]
  },
  {
   "cell_type": "code",
   "execution_count": 44,
   "id": "2ea4e3c5",
   "metadata": {},
   "outputs": [],
   "source": [
    "for t in range(T):\n",
    "    for p in range(P):\n",
    "        for s in range(S):\n",
    "            horario.Add(sum([X[s,t,p,c] for c in range(C)]) >= (len(projetos[p][0])/2)*X[s,t,p,projetos[p][1]])"
   ]
  },
  {
   "cell_type": "markdown",
   "id": "967e18e6",
   "metadata": {},
   "source": [
    "4. Cada projeto tem um numero minimo de reunioes semanais$$ \\forall_{p<P},\\sum_{t<T,s<S} X_{s,t,p,lider[p]} \\ge projetos[p][2] $$"
   ]
  },
  {
   "cell_type": "code",
   "execution_count": 45,
   "id": "ab811286",
   "metadata": {},
   "outputs": [],
   "source": [
    "for p in range(P):\n",
    "        horario.Add(sum([X[s,t,p,projetos[p][1]] for t in range(T) for s in range(S)]) >= projetos[p][2])"
   ]
  },
  {
   "cell_type": "markdown",
   "id": "e9a41002",
   "metadata": {},
   "source": [
    "5. Os colaboradores só conseguem participar em reuniões em slots que têm disponibilidade$$\\forall_{t<T}\\forall_{c<C}\\forall_{p<P}\\forall_{s<S},disp[c][t] = 0 \\rightarrow X_{s,t,p,c} = 0 $$"
   ]
  },
  {
   "cell_type": "code",
   "execution_count": 46,
   "id": "2e2c03d5",
   "metadata": {},
   "outputs": [],
   "source": [
    "for t in range(T):\n",
    "    for c in range(C):\n",
    "        for p in range(P):\n",
    "            for s in range(S):\n",
    "                if disp[c][t] == 0:\n",
    "                    horario.Add(X[s,t,p,c] == 0)"
   ]
  },
  {
   "cell_type": "markdown",
   "id": "b847330b",
   "metadata": {},
   "source": [
    "6. Os colaboradores não podem ter mais do que uma reunião no mesmo slot$$\\forall_{t<T}\\forall_{c<C}\\forall_{s<S},\\sum_{p<P} X_{s,t,p,c} \\le 1$$"
   ]
  },
  {
   "cell_type": "code",
   "execution_count": 47,
   "id": "19c734c4",
   "metadata": {},
   "outputs": [],
   "source": [
    "for t in range(T):\n",
    "    for c in range(C):\n",
    "        for s in range(S):\n",
    "            horario.Add(sum([X[s,t,p,c] for p in range(P)]) <= 1)"
   ]
  },
  {
   "cell_type": "markdown",
   "id": "5345a5f1",
   "metadata": {},
   "source": [
    " 7. Cada colaborador só pode participar em reuniões de projetos em que está incluido$$ \\forall_{c<C}\\forall_{p<P}\\forall_{t<T}\\forall_{s<S}, c \\notin projetos[p][0] \\rightarrow X_{s,t,p,c} = 0 $$"
   ]
  },
  {
   "cell_type": "code",
   "execution_count": 48,
   "id": "9c6637d9",
   "metadata": {},
   "outputs": [],
   "source": [
    "for t in range(T):\n",
    "    for c in range(C):\n",
    "        for p in range(P):\n",
    "            for s in range(S):\n",
    "                if c not in projetos[p][0]:\n",
    "                    horario.Add(X[s,t,p,c] == 0)"
   ]
  },
  {
   "cell_type": "markdown",
   "id": "38e9d524",
   "metadata": {},
   "source": [
    "8.Cada projeto só pode ter 1 ou 0 reuniões em cada slot $$\\forall_{t<T}\\forall_{p<P},\\sum_{s<S}X_{s,t,p,projetos[p][1]} \\le 1$$"
   ]
  },
  {
   "cell_type": "code",
   "execution_count": 49,
   "id": "2d516d6f",
   "metadata": {},
   "outputs": [],
   "source": [
    "for t in range(T):\n",
    "    for p in range(P):\n",
    "        horario.Add(sum([X[s,t,p,projetos[p][1]] for s in range(S)]) <= 1)"
   ]
  },
  {
   "cell_type": "markdown",
   "id": "47d58771",
   "metadata": {},
   "source": [
    "1. Maximizar o número de reuniões efetivamente realizadas"
   ]
  },
  {
   "cell_type": "code",
   "execution_count": 50,
   "id": "ba41ef18",
   "metadata": {},
   "outputs": [],
   "source": [
    "horario.Maximize(sum([X[s,t,p,projetos[p][1]] for s in range(S) for t in range(T) for p in range(P)]))"
   ]
  },
  {
   "cell_type": "markdown",
   "id": "f32e3326",
   "metadata": {},
   "source": [
    "2. Minimizar o número médio de reuniões por participante"
   ]
  },
  {
   "cell_type": "code",
   "execution_count": 51,
   "id": "5275a1db",
   "metadata": {},
   "outputs": [],
   "source": [
    "for s in range(S):\n",
    "    for p in range(P):\n",
    "        horario.Minimize(sum([X[s,t,p,c] for c in range(C) for t in range(T)])/C)  "
   ]
  },
  {
   "cell_type": "markdown",
   "id": "edc35316",
   "metadata": {},
   "source": [
    "## Imprimir o horário:"
   ]
  },
  {
   "cell_type": "code",
   "execution_count": null,
   "id": "ffa77e59",
   "metadata": {},
   "outputs": [],
   "source": [
    "status = horario.Solve()\n",
    "if status == pywraplp.Solver.OPTIMAL:\n",
    "    for t in range(T):\n",
    "        print(\"\\nSlot \" + str(t) + \":\")\n",
    "        for s in range(S):\n",
    "            print(\"----------------------------\\n\\tSala \" + str(s) + \":\")\n",
    "            for p in range(P):\n",
    "                colabs = str()\n",
    "                print(\"\\n\\t\\tProjeto \" + str(p) + \":\")\n",
    "            \n",
    "                for c in range(C):\n",
    "                    \n",
    "                    if (int(X[s,t,p,c].solution_value())) != 0:\n",
    "                        colabs = colabs + \" \" + str(int(X[s,t,p,c].solution_value()) * c)\n",
    "                print(\"\\t\\t\" + colabs)        \n",
    "        print(\".......................................................\")\n",
    "            \n",
    "\n",
    "else:\n",
    "    print(\"Não há solução\")"
   ]
  }
 ],
 "metadata": {
  "kernelspec": {
   "display_name": "Python 3 (ipykernel)",
   "language": "python",
   "name": "python3"
  },
  "language_info": {
   "codemirror_mode": {
    "name": "ipython",
    "version": 3
   },
   "file_extension": ".py",
   "mimetype": "text/x-python",
   "name": "python",
   "nbconvert_exporter": "python",
   "pygments_lexer": "ipython3",
   "version": "3.10.4"
  }
 },
 "nbformat": 4,
 "nbformat_minor": 5
}
